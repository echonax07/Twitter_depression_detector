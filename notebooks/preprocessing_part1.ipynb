{
 "cells": [
  {
   "cell_type": "markdown",
   "id": "reserved-survival",
   "metadata": {},
   "source": [
    "## Read the csv file, drop the duplicate(based on converstaionID) and remove unncessary column"
   ]
  },
  {
   "cell_type": "code",
   "execution_count": 2,
   "id": "coordinate-transfer",
   "metadata": {},
   "outputs": [
    {
     "data": {
      "text/plain": [
       "'D:\\\\Project\\\\Twitter_depression_detector\\\\data\\\\tweet_trend_dataset'"
      ]
     },
     "execution_count": 2,
     "metadata": {},
     "output_type": "execute_result"
    }
   ],
   "source": [
    "import pandas as pd\n",
    "import os\n",
    "from utils import show_df\n",
    "\n",
    "os.chdir('D:\\\\Project\\\\Twitter_depression_detector\\\\data\\\\tweet_trend_dataset')\n",
    "os.getcwd()\n"
   ]
  },
  {
   "cell_type": "code",
   "execution_count": 3,
   "id": "personalized-alignment",
   "metadata": {},
   "outputs": [],
   "source": [
    "# Reads the json generated from the CLI commands above and creates a pandas dataframe\n",
    "tweets_df = pd.read_csv('depression_tweets_2020-03-01.csv')\n",
    "tweets_df=tweets_df.drop_duplicates(subset=['conversationId'])\n",
    "tweets_df=tweets_df.drop(columns=['Unnamed: 0'],axis=1)\n"
   ]
  },
  {
   "cell_type": "markdown",
   "id": "dependent-terminology",
   "metadata": {},
   "source": [
    "## Search for all the hastags in tweet using regex"
   ]
  },
  {
   "cell_type": "code",
   "execution_count": 4,
   "id": "coated-perth",
   "metadata": {},
   "outputs": [
    {
     "name": "stdout",
     "output_type": "stream",
     "text": [
      "0                                                       []\n",
      "1                                                       []\n",
      "2                                                       []\n",
      "3                                                       []\n",
      "4                                                       []\n",
      "                               ...                        \n",
      "13276                                                   []\n",
      "13277                                                   []\n",
      "13278    [#GratefulnessSunday, #weonlydopositive, #ment...\n",
      "13279    [#JinShinJyutsu, #energyhealing, #quantum, #he...\n",
      "13280                                                   []\n",
      "Name: hashtags, Length: 11768, dtype: object\n"
     ]
    },
    {
     "data": {
      "application/vnd.jupyter.widget-view+json": {
       "model_id": "ef904e27e5fd43bf9845c3dc6a991096",
       "version_major": 2,
       "version_minor": 0
      },
      "text/plain": [
       "Grid(columns_fit='auto', compress_data=True, export_mode='disabled', height='350px', menu={'buttons': [], 'inp…"
      ]
     },
     "metadata": {},
     "output_type": "display_data"
    }
   ],
   "source": [
    "tweets_df['hashtags']=tweets_df.content.str.findall(r'#.*?(?=\\s|$)')\n",
    "print(tweets_df['hashtags'])\n",
    "\n",
    "show_df(tweets_df)"
   ]
  },
  {
   "cell_type": "markdown",
   "id": "mexican-philadelphia",
   "metadata": {},
   "source": [
    "## get Count the hashtags and remove the hastags related to medical terms"
   ]
  },
  {
   "cell_type": "code",
   "execution_count": 5,
   "id": "liked-drinking",
   "metadata": {},
   "outputs": [
    {
     "name": "stdout",
     "output_type": "stream",
     "text": [
      "13081    A holistic approach to therapy delves into the...\n",
      "13139    Rants - Episode #3. https://t.co/Jv8iImfBJS vi...\n",
      "13233    The simplest thing yet it could make a huge di...\n",
      "13261    New blog online #mentalhealth #anxiety #bpd #d...\n",
      "13278    You have everything you need already - stay gr...\n",
      "Name: content, dtype: object\n"
     ]
    },
    {
     "data": {
      "application/vnd.jupyter.widget-view+json": {
       "model_id": "ac1e62a98fb344f985ad8d3c829a26ac",
       "version_major": 2,
       "version_minor": 0
      },
      "text/plain": [
       "Grid(columns_fit='auto', compress_data=True, export_mode='disabled', height='350px', menu={'buttons': [], 'inp…"
      ]
     },
     "metadata": {},
     "output_type": "display_data"
    }
   ],
   "source": [
    "tweets_df.hashtags.value_counts().head(20)\n",
    "medical_terms = [\"#mentalhealth\", \"#health\", \"#happiness\", \"#mentalillness\", \"#happy\", \"#joy\", \"#wellbeing\"]\n",
    "mask1 = tweets_df.hashtags.apply(lambda x: any(item for item in medical_terms if item in x))\n",
    "print(tweets_df[mask1].content.tail())\n",
    "tweets_df[mask1==False].content.head(10)\n",
    "tweets_df=tweets_df[mask1==False]\n",
    "\n",
    "show_df(tweets_df)\n"
   ]
  },
  {
   "cell_type": "markdown",
   "id": "established-reggae",
   "metadata": {},
   "source": [
    "## remove tweets which contains too many hastags"
   ]
  },
  {
   "cell_type": "code",
   "execution_count": 6,
   "id": "cathedral-portuguese",
   "metadata": {},
   "outputs": [
    {
     "data": {
      "application/vnd.jupyter.widget-view+json": {
       "model_id": "d485c2b7d69e4788a09649c568aa6141",
       "version_major": 2,
       "version_minor": 0
      },
      "text/plain": [
       "Grid(columns_fit='auto', compress_data=True, export_mode='disabled', height='350px', menu={'buttons': [], 'inp…"
      ]
     },
     "metadata": {},
     "output_type": "display_data"
    }
   ],
   "source": [
    "mask2 = tweets_df.hashtags.apply(lambda x: len(x) < 4)\n",
    "tweets_df=tweets_df[mask2]\n",
    "tweets_df.hashtags.value_counts().head(20)\n",
    "\n",
    "show_df(tweets_df)\n"
   ]
  },
  {
   "cell_type": "markdown",
   "id": "million-worst",
   "metadata": {},
   "source": [
    "## remove tweets with @ mentions as they are sometimes retweets\n"
   ]
  },
  {
   "cell_type": "code",
   "execution_count": 7,
   "id": "choice-senegal",
   "metadata": {},
   "outputs": [
    {
     "name": "stdout",
     "output_type": "stream",
     "text": [
      "Len of dataset:  11002\n",
      "Len of dataset:  10903\n"
     ]
    }
   ],
   "source": [
    "import ast\n",
    "print(\"Len of dataset: \",len(tweets_df))\n",
    "# the mentioned user were stored as string so converted them to list\n",
    "tweets_df['mentionedUsers']=[ast.literal_eval(mentioneduser) if type(mentioneduser)!=float else str(mentioneduser) for mentioneduser in tweets_df['mentionedUsers']]\n",
    "mask3 = tweets_df.mentionedUsers.apply(lambda x: len(x) < 5)\n",
    "tweets_df = tweets_df[mask3]\n",
    "print(\"Len of dataset: \",len(tweets_df))"
   ]
  },
  {
   "cell_type": "code",
   "execution_count": 8,
   "id": "organic-pressing",
   "metadata": {},
   "outputs": [
    {
     "data": {
      "application/vnd.jupyter.widget-view+json": {
       "model_id": "f4442dc03b494864a73b9e5fb2607f26",
       "version_major": 2,
       "version_minor": 0
      },
      "text/plain": [
       "Grid(columns_fit='auto', compress_data=True, export_mode='disabled', height='350px', menu={'buttons': [], 'inp…"
      ]
     },
     "metadata": {},
     "output_type": "display_data"
    }
   ],
   "source": [
    "show_df(tweets_df)\n"
   ]
  },
  {
   "cell_type": "markdown",
   "id": "referenced-appointment",
   "metadata": {},
   "source": [
    "## Remove tweets containing URLS as they might be promotional msgs"
   ]
  },
  {
   "cell_type": "code",
   "execution_count": 9,
   "id": "closing-suicide",
   "metadata": {},
   "outputs": [
    {
     "name": "stdout",
     "output_type": "stream",
     "text": [
      "10903\n",
      "9200\n"
     ]
    }
   ],
   "source": [
    "import ast\n",
    "print(len(tweets_df))\n",
    "tweets_df['outlinks']=[ast.literal_eval(outlink) for outlink in tweets_df['outlinks']]\n",
    "mask4 = tweets_df.outlinks.apply(lambda x: len(x)==0)\n",
    "tweets_df = tweets_df[mask4]\n",
    "print(len(tweets_df))"
   ]
  },
  {
   "cell_type": "code",
   "execution_count": 10,
   "id": "moved-level",
   "metadata": {},
   "outputs": [
    {
     "data": {
      "application/vnd.jupyter.widget-view+json": {
       "model_id": "1b7921cab1394aea9b8c1596409656dc",
       "version_major": 2,
       "version_minor": 0
      },
      "text/plain": [
       "Grid(columns_fit='auto', compress_data=True, export_mode='disabled', height='350px', menu={'buttons': [], 'inp…"
      ]
     },
     "metadata": {},
     "output_type": "display_data"
    }
   ],
   "source": [
    "show_df(tweets_df)"
   ]
  },
  {
   "cell_type": "markdown",
   "id": "selective-collins",
   "metadata": {},
   "source": [
    "## Feature engineering, a column featuring count of the mentioneduser"
   ]
  },
  {
   "cell_type": "code",
   "execution_count": 23,
   "id": "desirable-laptop",
   "metadata": {},
   "outputs": [],
   "source": [
    "tweets_df['mentionedUserCount']=[len(mentionedUser) if type(mentionedUser)==list else 0 for mentionedUser in tweets_df['mentionedUsers']]"
   ]
  },
  {
   "cell_type": "code",
   "execution_count": 24,
   "id": "moving-accounting",
   "metadata": {},
   "outputs": [
    {
     "data": {
      "application/vnd.jupyter.widget-view+json": {
       "model_id": "e33b0fdf739c46c69d9b10e66588dcbd",
       "version_major": 2,
       "version_minor": 0
      },
      "text/plain": [
       "Grid(columns_fit='auto', compress_data=True, export_mode='disabled', height='350px', menu={'buttons': [], 'inp…"
      ]
     },
     "metadata": {},
     "output_type": "display_data"
    }
   ],
   "source": [
    "show_df(tweets_df)"
   ]
  },
  {
   "cell_type": "code",
   "execution_count": 11,
   "id": "atomic-garlic",
   "metadata": {},
   "outputs": [],
   "source": [
    "tweets_df.to_csv('cleaned_tweets.csv')"
   ]
  },
  {
   "cell_type": "markdown",
   "id": "wound-effect",
   "metadata": {},
   "source": [
    "## see the difference between two columns content and renderedcontent"
   ]
  },
  {
   "cell_type": "code",
   "execution_count": 17,
   "id": "victorian-damages",
   "metadata": {},
   "outputs": [
    {
     "name": "stdout",
     "output_type": "stream",
     "text": [
      "9200\n"
     ]
    }
   ],
   "source": [
    "count=0\n",
    "for i in range(len(tweets_df)):\n",
    "    if tweets_df.iloc[i]['renderedContent']==tweets_df.iloc[i]['content']:\n",
    "        count+=1\n",
    "print(count)        "
   ]
  },
  {
   "cell_type": "markdown",
   "id": "heard-ceremony",
   "metadata": {},
   "source": [
    "## select the useful columns\n"
   ]
  },
  {
   "cell_type": "code",
   "execution_count": 26,
   "id": "fallen-personal",
   "metadata": {},
   "outputs": [
    {
     "data": {
      "text/plain": [
       "Index(['url', 'date', 'content', 'renderedContent', 'id', 'user', 'outlinks',\n",
       "       'tcooutlinks', 'replyCount', 'retweetCount', 'likeCount', 'quoteCount',\n",
       "       'conversationId', 'lang', 'source', 'sourceUrl', 'sourceLabel', 'media',\n",
       "       'retweetedTweet', 'quotedTweet', 'mentionedUsers', 'hashtags',\n",
       "       'mentionedUserCount'],\n",
       "      dtype='object')"
      ]
     },
     "execution_count": 26,
     "metadata": {},
     "output_type": "execute_result"
    }
   ],
   "source": [
    "tweets_df.columns"
   ]
  },
  {
   "cell_type": "code",
   "execution_count": 27,
   "id": "public-cursor",
   "metadata": {},
   "outputs": [],
   "source": [
    "tweets_cleaned_df=tweets_df[['renderedContent','replyCount','retweetCount','likeCount','quoteCount','mentionedUserCount']]"
   ]
  },
  {
   "cell_type": "code",
   "execution_count": 28,
   "id": "arabic-stephen",
   "metadata": {},
   "outputs": [
    {
     "data": {
      "application/vnd.jupyter.widget-view+json": {
       "model_id": "7aa04c816c0b49268aaad392d1503e61",
       "version_major": 2,
       "version_minor": 0
      },
      "text/plain": [
       "Grid(columns_fit='auto', compress_data=True, export_mode='disabled', height='350px', menu={'buttons': [], 'inp…"
      ]
     },
     "metadata": {},
     "output_type": "display_data"
    }
   ],
   "source": [
    "show_df(tweets_cleaned_df)"
   ]
  },
  {
   "cell_type": "markdown",
   "id": "beautiful-breakdown",
   "metadata": {},
   "source": [
    "## Exporting the cleaned tweets"
   ]
  },
  {
   "cell_type": "code",
   "execution_count": 32,
   "id": "french-creature",
   "metadata": {},
   "outputs": [],
   "source": [
    "tweets_cleaned_df.to_csv('cleaned_tweets.csv',index=False)"
   ]
  },
  {
   "cell_type": "code",
   "execution_count": null,
   "id": "transsexual-evening",
   "metadata": {},
   "outputs": [],
   "source": []
  }
 ],
 "metadata": {
  "kernelspec": {
   "display_name": "Python 3",
   "language": "python",
   "name": "python3"
  },
  "language_info": {
   "codemirror_mode": {
    "name": "ipython",
    "version": 3
   },
   "file_extension": ".py",
   "mimetype": "text/x-python",
   "name": "python",
   "nbconvert_exporter": "python",
   "pygments_lexer": "ipython3",
   "version": "3.7.9"
  }
 },
 "nbformat": 4,
 "nbformat_minor": 5
}
