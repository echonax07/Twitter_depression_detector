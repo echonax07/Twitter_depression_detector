{
 "cells": [
  {
   "cell_type": "code",
   "execution_count": null,
   "id": "solid-assumption",
   "metadata": {},
   "outputs": [],
   "source": [
    "\n",
    "\n",
    "import pandas as pd\n",
    "import os\n",
    "from utils import show_df\n",
    "\n",
    "os.chdir('D:\\\\Project\\\\Twitter_depression_detector\\\\data\\\\tweet_trend_dataset')\n",
    "os.getcwd()"
   ]
  },
  {
   "cell_type": "markdown",
   "id": "governmental-fruit",
   "metadata": {},
   "source": [
    "## Read the csv file, drop the duplicate(based on converstaionID) and remove unncessary column"
   ]
  },
  {
   "cell_type": "code",
   "execution_count": null,
   "id": "competitive-orleans",
   "metadata": {},
   "outputs": [],
   "source": [
    "# Reads the json generated from the CLI commands above and creates a pandas dataframe\n",
    "tweets_df = pd.read_csv('depression_tweets_2020-03-01.csv')\n",
    "tweets_df=tweets_df.drop_duplicates(subset=['conversationId'])\n",
    "tweets_df=tweets_df.drop(columns=['Unnamed: 0'],axis=1)\n"
   ]
  },
  {
   "cell_type": "markdown",
   "id": "prescribed-toronto",
   "metadata": {},
   "source": [
    "## Search for all the hastags in tweet using regex"
   ]
  },
  {
   "cell_type": "code",
   "execution_count": null,
   "id": "abandoned-mailing",
   "metadata": {},
   "outputs": [],
   "source": [
    "tweets_df['hashtags']=tweets_df.content.str.findall(r'#.*?(?=\\s|$)')\n",
    "print(tweets_df['hashtags'])"
   ]
  },
  {
   "cell_type": "markdown",
   "id": "pharmaceutical-vocabulary",
   "metadata": {},
   "source": [
    "## get Count the hashtags and remove the hastags related to medical terms"
   ]
  },
  {
   "cell_type": "code",
   "execution_count": null,
   "id": "binary-specific",
   "metadata": {},
   "outputs": [],
   "source": [
    "tweets_df.hashtags.value_counts().head(20)\n",
    "medical_terms = [\"#mentalhealth\", \"#health\", \"#happiness\", \"#mentalillness\", \"#happy\", \"#joy\", \"#wellbeing\"]\n",
    "mask1 = tweets_df.hashtags.apply(lambda x: any(item for item in medical_terms if item in x))\n",
    "print(tweets_df[mask1].content.tail())\n",
    "tweets_df[mask1==False].content.head(10)\n",
    "tweets_df=tweets_df[mask1==False]\n"
   ]
  },
  {
   "cell_type": "markdown",
   "id": "superb-liquid",
   "metadata": {},
   "source": [
    "## remove tweets which contains too many hastags"
   ]
  },
  {
   "cell_type": "code",
   "execution_count": null,
   "id": "satisfactory-arrest",
   "metadata": {},
   "outputs": [],
   "source": [
    "mask2 = tweets_df.hashtags.apply(lambda x: len(x) < 4)\n",
    "tweets_df=tweets_df[mask2]\n",
    "tweets_df.hashtags.value_counts().head(20)\n"
   ]
  },
  {
   "cell_type": "code",
   "execution_count": null,
   "id": "computational-retirement",
   "metadata": {},
   "outputs": [],
   "source": [
    "\n",
    "tweets_df.content.tail(20)\n",
    "\n",
    "mask5 = tweets_df.urls.apply(lambda x: len(x) < 5)\n"
   ]
  },
  {
   "cell_type": "code",
   "execution_count": null,
   "id": "instructional-armor",
   "metadata": {},
   "outputs": [],
   "source": [
    "show_df(tweets_df)"
   ]
  },
  {
   "cell_type": "code",
   "execution_count": null,
   "id": "provincial-africa",
   "metadata": {},
   "outputs": [],
   "source": []
  },
  {
   "cell_type": "code",
   "execution_count": null,
   "id": "south-chuck",
   "metadata": {},
   "outputs": [],
   "source": []
  }
 ],
 "metadata": {
  "kernelspec": {
   "display_name": "Python 3",
   "language": "python",
   "name": "python3"
  },
  "language_info": {
   "codemirror_mode": {
    "name": "ipython",
    "version": 3
   },
   "file_extension": ".py",
   "mimetype": "text/x-python",
   "name": "python",
   "nbconvert_exporter": "python",
   "pygments_lexer": "ipython3",
   "version": "3.7.9"
  }
 },
 "nbformat": 4,
 "nbformat_minor": 5
}
